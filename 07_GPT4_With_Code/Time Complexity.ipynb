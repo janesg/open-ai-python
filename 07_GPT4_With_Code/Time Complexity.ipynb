{
 "cells": [
  {
   "cell_type": "code",
   "execution_count": 1,
   "id": "39d7ac80",
   "metadata": {},
   "outputs": [],
   "source": [
    "import openai"
   ]
  },
  {
   "cell_type": "code",
   "execution_count": 2,
   "id": "96de38cc",
   "metadata": {},
   "outputs": [],
   "source": [
    "from dotenv import dotenv_values"
   ]
  },
  {
   "cell_type": "code",
   "execution_count": 3,
   "id": "3b630436",
   "metadata": {},
   "outputs": [],
   "source": [
    "config = dotenv_values(\"../.env\")"
   ]
  },
  {
   "cell_type": "code",
   "execution_count": 4,
   "id": "b3cb65c7",
   "metadata": {},
   "outputs": [],
   "source": [
    "openai.api_key = config[\"OPENAI_API_KEY\"]"
   ]
  },
  {
   "cell_type": "markdown",
   "id": "39d5e151",
   "metadata": {},
   "source": [
    "## Asking GPT-4 To Calculate Time Complexity"
   ]
  },
  {
   "cell_type": "code",
   "execution_count": 5,
   "id": "48145ca1",
   "metadata": {},
   "outputs": [],
   "source": [
    "bubble_sort = \"\"\"\n",
    "def sort(array):    \n",
    "  for i in range(len(array)):\n",
    "    for j in range(0, len(array) - i - 1):\n",
    "      if array[j] > array[j + 1]:\n",
    "        temp = array[j]\n",
    "        array[j] = array[j+1]\n",
    "        array[j+1] = temp\n",
    "\"\"\""
   ]
  },
  {
   "cell_type": "code",
   "execution_count": 6,
   "outputs": [],
   "source": [
    "merge_sort = \"\"\"\n",
    "# Condition : both lists must be already sorted from lowest value to highest value\n",
    "def merge(list_1, list_2):\n",
    "    len_1 = len(list_1)\n",
    "    len_2 = len(list_2)\n",
    "\n",
    "    if len_1 == 0:\n",
    "        return list_2\n",
    "\n",
    "    if len_2 == 0:\n",
    "        return list_1\n",
    "\n",
    "    output = []\n",
    "    idx_1 = 0\n",
    "    idx_2 = 0\n",
    "\n",
    "    while idx_1 < len_1 and idx_2 < len_2:\n",
    "        if list_1[idx_1] < list_2[idx_2]:\n",
    "            output.append(list_1[idx_1])\n",
    "            idx_1 += 1\n",
    "        else:\n",
    "            output.append(list_2[idx_2])\n",
    "            idx_2 += 1\n",
    "\n",
    "    while idx_1 < len_1:\n",
    "        output.append(list_1[idx_1])\n",
    "        idx_1 += 1\n",
    "\n",
    "    while idx_2 < len_2:\n",
    "        output.append(list_2[idx_2])\n",
    "        idx_2 += 1\n",
    "\n",
    "    return output\n",
    "\n",
    "def sort(list):\n",
    "    if len(list) <= 1:\n",
    "        return list\n",
    "    else:\n",
    "        mid_idx = int(len(list) / 2)\n",
    "        left = list[:mid_idx]\n",
    "        right = list[mid_idx:]\n",
    "\n",
    "    return merge(sort(left), sort(right))\n",
    "\"\"\""
   ],
   "metadata": {
    "collapsed": false
   }
  },
  {
   "cell_type": "code",
   "execution_count": 12,
   "id": "0301aaef",
   "metadata": {},
   "outputs": [],
   "source": [
    "quick_sort = \"\"\"\n",
    "def partition(array, low, high):\n",
    "    pivot = array[high]\n",
    "    i = low - 1\n",
    " \n",
    "    for j in range(low, high):\n",
    "        if array[j] <= pivot:\n",
    "            i = i + 1\n",
    "            (array[i], array[j]) = (array[j], array[i])\n",
    "    (array[i + 1], array[high]) = (array[high], array[i + 1])\n",
    "    return i + 1\n",
    "  \n",
    "def sort(array, low, high):\n",
    "    if low < high:\n",
    "        pi = partition(array, low, high)\n",
    "        sort(array, low, pi - 1)\n",
    "        sort(array, pi + 1, high)\n",
    "\"\"\""
   ]
  },
  {
   "cell_type": "code",
   "execution_count": 20,
   "id": "bb7ffb05",
   "metadata": {},
   "outputs": [],
   "source": [
    "messages = [\n",
    "    # {\"role\": \"user\", \"content\": f\"Calculate the time complexity of the following function: {quick_sort} \"}\n",
    "    # {\"role\": \"user\", \"content\": f\"Calculate the time and space complexity of the following function: {quick_sort} \"}\n",
    "    {\"role\": \"user\", \"content\": f\"Calculate Big O of the following function: {quick_sort} \"}\n",
    "]"
   ]
  },
  {
   "cell_type": "code",
   "execution_count": 21,
   "id": "9e7c992a",
   "metadata": {},
   "outputs": [
    {
     "name": "stdout",
     "output_type": "stream",
     "text": [
      "The time complexity of the partition function is O(n) because in the worst case scenario each element of the array is compared to the pivot once.\n",
      "The time complexity of the sort function is O(nlogn) because it divides the data into two equal parts and then sorts them recursively. If n is the number of elements in the array, then the number of operations required for sorting is proportional to nlogn.\n",
      "Therefore, the overall time complexity of the partition and sort functions is O(nlogn) for the worst case scenario.\n"
     ]
    }
   ],
   "source": [
    "res = openai.ChatCompletion.create(\n",
    "    messages=messages,\n",
    "    # model=\"gpt-4\"\n",
    "    model=\"gpt-3.5-turbo\"\n",
    ")\n",
    "print(res[\"choices\"][0][\"message\"][\"content\"])"
   ]
  },
  {
   "cell_type": "code",
   "execution_count": 10,
   "id": "0fc07a38",
   "metadata": {},
   "outputs": [],
   "source": [
    "messages = [\n",
    "    {\"role\": \"user\", \"content\": f\"Calculate the time and space complexity of the following function: {merge_sort} \"}\n",
    "]"
   ]
  },
  {
   "cell_type": "code",
   "execution_count": 11,
   "id": "a12ed01b",
   "metadata": {},
   "outputs": [
    {
     "name": "stdout",
     "output_type": "stream",
     "text": [
      "Time complexity: The `sort` function recursively divides the list into halves until the base case of having only one or zero element is reached, which takes constant time O(1). Then, the `merge` function is called to merge the two halves of the list, which takes O(n) time, where n is the length of the combined lists. Since the length of the list is divided by 2 at each recursive level, the total number of recursive levels is log(n) (base 2). Therefore, the time complexity of the `sort` function is O(n*log(n)). Finally, the time complexity of the `merge` function is O(n), so the overall time complexity of the `sort` and `merge` functions combined is O(n*log(n)).\n",
      "\n",
      "Space complexity: The space complexity of the `sort` function is O(log(n)), since at each recursive level, two lists are created that are half the size of the original list. Therefore, the total number of recursive levels is log(n) (base 2) and each level requires O(1) additional space for the merge operation. The space complexity of the `merge` function is O(n) because the merged list has a size of n. Thus, the overall space complexity of the `sort` and `merge` functions combined is O(n*log(n)).\n"
     ]
    }
   ],
   "source": [
    "res = openai.ChatCompletion.create(\n",
    "    messages=messages,\n",
    "    model=\"gpt-3.5-turbo\"\n",
    ")\n",
    "print(res[\"choices\"][0][\"message\"][\"content\"])"
   ]
  }
 ],
 "metadata": {
  "kernelspec": {
   "display_name": "Python 3",
   "language": "python",
   "name": "python3"
  },
  "language_info": {
   "codemirror_mode": {
    "name": "ipython",
    "version": 3
   },
   "file_extension": ".py",
   "mimetype": "text/x-python",
   "name": "python",
   "nbconvert_exporter": "python",
   "pygments_lexer": "ipython3",
   "version": "3.8.8"
  }
 },
 "nbformat": 4,
 "nbformat_minor": 5
}

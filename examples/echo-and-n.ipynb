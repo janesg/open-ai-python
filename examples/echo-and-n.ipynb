{
 "cells": [
  {
   "cell_type": "code",
   "execution_count": 1,
   "outputs": [],
   "source": [
    "import openai"
   ],
   "metadata": {
    "collapsed": false
   }
  },
  {
   "cell_type": "code",
   "execution_count": 2,
   "outputs": [],
   "source": [
    "from dotenv import dotenv_values"
   ],
   "metadata": {
    "collapsed": false
   }
  },
  {
   "cell_type": "code",
   "execution_count": 3,
   "outputs": [],
   "source": [
    "config = dotenv_values(\"../.env\")"
   ],
   "metadata": {
    "collapsed": false
   }
  },
  {
   "cell_type": "code",
   "execution_count": 4,
   "outputs": [],
   "source": [
    "openai.api_key = config[\"OPENAI_API_KEY\"]"
   ],
   "metadata": {
    "collapsed": false
   }
  },
  {
   "cell_type": "code",
   "execution_count": 5,
   "outputs": [],
   "source": [
    "response = openai.Completion.create(\n",
    "    prompt=\"What are your most and least favorite words\",\n",
    "    model=\"text-davinci-003\",\n",
    "    max_tokens=100,\n",
    "    n=3\n",
    ")"
   ],
   "metadata": {
    "collapsed": false
   }
  },
  {
   "cell_type": "code",
   "execution_count": 6,
   "outputs": [
    {
     "name": "stdout",
     "output_type": "stream",
     "text": [
      "?\n",
      "\n",
      "My favorite words are hopeful, compassionate, and joyous. My least favorite words are apathy, greedy, and adversity.\n",
      "?\n",
      "\n",
      "My favorite words are \"truth\" and \"love.\" My least favorite words are \"obsolete\" and \"failure.\"\n",
      "?\n",
      "\n",
      "My favorite words are 'reckless', 'wisdom', and 'laughter'. My least favorite words are 'depressing', 'dreary', and 'boring'.\n"
     ]
    }
   ],
   "source": [
    "for i in response[\"choices\"]:\n",
    "    print(i[\"text\"])"
   ],
   "metadata": {
    "collapsed": false
   }
  },
  {
   "cell_type": "code",
   "execution_count": 7,
   "outputs": [],
   "source": [
    "response = openai.Completion.create(\n",
    "    prompt=\"Q: How old is Father Christmas ?\",\n",
    "    model=\"text-davinci-003\",\n",
    "    # model=\"gpt-3.5-turbo\",\n",
    "    max_tokens=100,\n",
    "    echo=True\n",
    ")"
   ],
   "metadata": {
    "collapsed": false
   }
  },
  {
   "cell_type": "code",
   "execution_count": 8,
   "outputs": [
    {
     "name": "stdout",
     "output_type": "stream",
     "text": [
      "Q: How old is Father Christmas ?\n",
      "\n",
      "Father Christmas, or Santa Claus, is a legendary figure. As a result, he has no exact age.\n"
     ]
    }
   ],
   "source": [
    "print(response[\"choices\"][0][\"text\"])"
   ],
   "metadata": {
    "collapsed": false
   }
  }
 ],
 "metadata": {
  "kernelspec": {
   "display_name": "Python 3",
   "language": "python",
   "name": "python3"
  },
  "language_info": {
   "codemirror_mode": {
    "name": "ipython",
    "version": 2
   },
   "file_extension": ".py",
   "mimetype": "text/x-python",
   "name": "python",
   "nbconvert_exporter": "python",
   "pygments_lexer": "ipython2",
   "version": "2.7.6"
  }
 },
 "nbformat": 4,
 "nbformat_minor": 0
}
